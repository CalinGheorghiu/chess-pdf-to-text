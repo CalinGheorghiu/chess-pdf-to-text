{
 "cells": [
  {
   "cell_type": "code",
   "execution_count": 5,
   "metadata": {},
   "outputs": [
    {
     "name": "stdout",
     "output_type": "stream",
     "text": [
      "Collecting pypdf2\n",
      "  Downloading pypdf2-3.0.1-py3-none-any.whl (232 kB)\n",
      "\u001b[2K     \u001b[90m━━━━━━━━━━━━━━━━━━━━━━━━━━━━━━━━━━━━━━━\u001b[0m \u001b[32m232.6/232.6 kB\u001b[0m \u001b[31m3.9 MB/s\u001b[0m eta \u001b[36m0:00:00\u001b[0ma \u001b[36m0:00:01\u001b[0m\n",
      "\u001b[?25hInstalling collected packages: pypdf2\n",
      "Successfully installed pypdf2-3.0.1\n",
      "Note: you may need to restart the kernel to use updated packages.\n"
     ]
    }
   ],
   "source": [
    "pip install pypdf2"
   ]
  },
  {
   "cell_type": "code",
   "execution_count": 13,
   "metadata": {},
   "outputs": [
    {
     "name": "stdout",
     "output_type": "stream",
     "text": [
      "13\n",
      "Sam Shankland – Jorden van Foreest\n",
      "Prague 2021\n",
      " \n",
      "    \n",
      "    \n",
      "    \n",
      "    \n",
      "     \n",
      "     \n",
      "    \n",
      "     \n",
      "\n",
      "Sam played the timid:\n",
      "27.h3? \n",
      "The sort of move you make when you are disappointed with the outcome of your main \n",
      "intentions.\n",
      "27...£d5† 28.¢g1 ¤e4 \n",
      "Black has enough counterplay. The game took many twists and turns, before White won on \n",
      "move 62, but only because Black was trying to win the game along the way!\n",
      "Stronger was:\n",
      "27.£b7! \n",
      "This was the move Sam wanted to play on intuitive grounds. He was happy to continue \n",
      "squeezing after 27...¤d5, but was thinking that the intention behind Black’s last move,  \n",
      "26...h5!?, was to be expansive on the kingside. He thus calculated the following variation: \n",
      "27...g5!? 28.¦c7 \n",
      "28.¢g1! would be an additional option for White, keeping flexibility.\n",
      "28...£d5† 29.¢g1 £xb7 30.¦xb7 g4 31.¦xb6 ¤e4 \n",
      "The knight is aiming for g5. White is pressing, but Black will hold with decent defensive play.\n",
      "But seeing this variation and to automatically extrapolate that the opponent was intending it and \n",
      "was confident in it, and that he would have defended the endgame well over the next 30 moves, \n",
      "was impractical. Better to allow the opponent to live in the zone of one mistake, than see your \n",
      "advantage die...You don’t have to read everything!\n",
      "\n"
     ]
    }
   ],
   "source": [
    "from PyPDF2 import PdfReader\n",
    "\n",
    "reader = PdfReader(\"../data/chess.pdf\")\n",
    "number_of_pages = len(reader.pages)\n",
    "page = reader.pages[10]\n",
    "text = page.extract_text()\n",
    "print(text)"
   ]
  },
  {
   "cell_type": "code",
   "execution_count": 8,
   "metadata": {},
   "outputs": [
    {
     "name": "stdout",
     "output_type": "stream",
     "text": [
      "A Matter of\n",
      "Endgame T echnique\n",
      "By\n",
      "Jacob Aagaard\n",
      "Quality Chess \n",
      "www.qualitychess.co.uk\n",
      "\n"
     ]
    }
   ],
   "source": []
  },
  {
   "cell_type": "code",
   "execution_count": null,
   "metadata": {},
   "outputs": [],
   "source": []
  }
 ],
 "metadata": {
  "kernelspec": {
   "display_name": "Python 3",
   "language": "python",
   "name": "python3"
  },
  "language_info": {
   "codemirror_mode": {
    "name": "ipython",
    "version": 3
   },
   "file_extension": ".py",
   "mimetype": "text/x-python",
   "name": "python",
   "nbconvert_exporter": "python",
   "pygments_lexer": "ipython3",
   "version": "3.10.13"
  }
 },
 "nbformat": 4,
 "nbformat_minor": 2
}
